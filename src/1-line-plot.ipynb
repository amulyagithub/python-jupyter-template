import pandas as pd
import altair as alt


x = pd.Series(range(0, 11))


y = x ** 2
df = pd.DataFrame({'x': x, 'y': y})

chart = alt.Chart(df).mark_line().encode(
    x=alt.X('x', title='X'),
    y=alt.Y('y', title='Square of X'),
    tooltip=['x', 'y']
).properties(
    title='Line Plot of X vs Square of X'
).interactive()

chart = chart.configure_axis(
    grid=True
)

chart.save('line_plot_with_grid.json')

chart.show()
